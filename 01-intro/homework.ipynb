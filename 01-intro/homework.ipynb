{
 "cells": [
  {
<<<<<<< HEAD
   "cell_type": "markdown",
   "source": [
    "# Predict duration for For-Hire Vehicle Trip Records data"
   ],
   "metadata": {
    "collapsed": false,
    "pycharm": {
     "name": "#%% md\n"
    }
   }
  },
  {
   "cell_type": "markdown",
   "source": [
    "## Analysis"
   ],
   "metadata": {
    "collapsed": false,
    "pycharm": {
     "name": "#%% md\n"
    }
   }
  },
  {
   "cell_type": "code",
   "execution_count": 1,
   "outputs": [],
   "source": [
    "import numpy as np\n",
    "import pandas as pd\n",
    "import seaborn as sns\n",
    "import typing as tp\n",
    "\n",
    "from sklearn.feature_extraction import DictVectorizer\n",
    "from sklearn.linear_model import LinearRegression\n",
    "from sklearn.metrics import mean_squared_error\n"
   ],
   "metadata": {
    "collapsed": false,
    "pycharm": {
     "name": "#%%\n"
    }
   }
  },
  {
   "cell_type": "code",
   "execution_count": 2,
   "outputs": [],
   "source": [
    "january_data = pd.read_parquet(\"./data/fhv_tripdata_2021-01.parquet\")"
   ],
   "metadata": {
    "collapsed": false,
    "pycharm": {
     "name": "#%%\n"
    }
   }
  },
  {
   "cell_type": "code",
   "execution_count": 3,
   "outputs": [
    {
     "data": {
      "text/plain": "  dispatching_base_num     pickup_datetime    dropOff_datetime  PUlocationID  \\\n0               B00009 2021-01-01 00:27:00 2021-01-01 00:44:00           NaN   \n1               B00009 2021-01-01 00:50:00 2021-01-01 01:07:00           NaN   \n2               B00013 2021-01-01 00:01:00 2021-01-01 01:51:00           NaN   \n3               B00037 2021-01-01 00:13:09 2021-01-01 00:21:26           NaN   \n4               B00037 2021-01-01 00:38:31 2021-01-01 00:53:44           NaN   \n\n   DOlocationID SR_Flag Affiliated_base_number  \n0           NaN    None                 B00009  \n1           NaN    None                 B00009  \n2           NaN    None                 B00013  \n3          72.0    None                 B00037  \n4          61.0    None                 B00037  ",
      "text/html": "<div>\n<style scoped>\n    .dataframe tbody tr th:only-of-type {\n        vertical-align: middle;\n    }\n\n    .dataframe tbody tr th {\n        vertical-align: top;\n    }\n\n    .dataframe thead th {\n        text-align: right;\n    }\n</style>\n<table border=\"1\" class=\"dataframe\">\n  <thead>\n    <tr style=\"text-align: right;\">\n      <th></th>\n      <th>dispatching_base_num</th>\n      <th>pickup_datetime</th>\n      <th>dropOff_datetime</th>\n      <th>PUlocationID</th>\n      <th>DOlocationID</th>\n      <th>SR_Flag</th>\n      <th>Affiliated_base_number</th>\n    </tr>\n  </thead>\n  <tbody>\n    <tr>\n      <th>0</th>\n      <td>B00009</td>\n      <td>2021-01-01 00:27:00</td>\n      <td>2021-01-01 00:44:00</td>\n      <td>NaN</td>\n      <td>NaN</td>\n      <td>None</td>\n      <td>B00009</td>\n    </tr>\n    <tr>\n      <th>1</th>\n      <td>B00009</td>\n      <td>2021-01-01 00:50:00</td>\n      <td>2021-01-01 01:07:00</td>\n      <td>NaN</td>\n      <td>NaN</td>\n      <td>None</td>\n      <td>B00009</td>\n    </tr>\n    <tr>\n      <th>2</th>\n      <td>B00013</td>\n      <td>2021-01-01 00:01:00</td>\n      <td>2021-01-01 01:51:00</td>\n      <td>NaN</td>\n      <td>NaN</td>\n      <td>None</td>\n      <td>B00013</td>\n    </tr>\n    <tr>\n      <th>3</th>\n      <td>B00037</td>\n      <td>2021-01-01 00:13:09</td>\n      <td>2021-01-01 00:21:26</td>\n      <td>NaN</td>\n      <td>72.0</td>\n      <td>None</td>\n      <td>B00037</td>\n    </tr>\n    <tr>\n      <th>4</th>\n      <td>B00037</td>\n      <td>2021-01-01 00:38:31</td>\n      <td>2021-01-01 00:53:44</td>\n      <td>NaN</td>\n      <td>61.0</td>\n      <td>None</td>\n      <td>B00037</td>\n    </tr>\n  </tbody>\n</table>\n</div>"
     },
     "execution_count": 3,
     "metadata": {},
     "output_type": "execute_result"
    }
   ],
   "source": [
    "january_data.head()"
   ],
   "metadata": {
    "collapsed": false,
    "pycharm": {
     "name": "#%%\n"
    }
   }
  },
  {
   "cell_type": "code",
   "execution_count": 4,
   "outputs": [
    {
     "data": {
      "text/plain": "dispatching_base_num              object\npickup_datetime           datetime64[ns]\ndropOff_datetime          datetime64[ns]\nPUlocationID                     float64\nDOlocationID                     float64\nSR_Flag                           object\nAffiliated_base_number            object\ndtype: object"
     },
     "execution_count": 4,
     "metadata": {},
     "output_type": "execute_result"
    }
   ],
   "source": [
    "january_data.dtypes"
   ],
   "metadata": {
    "collapsed": false,
    "pycharm": {
     "name": "#%%\n"
    }
   }
  },
  {
   "cell_type": "code",
   "execution_count": 5,
   "outputs": [
    {
     "data": {
      "text/plain": "(1154112, 7)"
     },
     "execution_count": 5,
=======
   "cell_type": "code",
   "execution_count": 42,
   "id": "7525e867",
   "metadata": {},
   "outputs": [],
   "source": [
    "import pandas as pd\n",
    "import seaborn as sns\n",
    "\n",
    "from sklearn.feature_extraction import DictVectorizer\n",
    "from sklearn.linear_model import LinearRegression\n",
    "\n",
    "from sklearn.metrics import mean_squared_error"
   ]
  },
  {
   "cell_type": "code",
   "execution_count": 35,
   "id": "4c1fbc9a",
   "metadata": {},
   "outputs": [],
   "source": [
    "df = pd.read_parquet('./data/fhv_tripdata_2021-01.parquet')"
   ]
  },
  {
   "cell_type": "code",
   "execution_count": 20,
   "id": "7a70df86",
   "metadata": {},
   "outputs": [],
   "source": [
    "old_len = len(df)"
   ]
  },
  {
   "cell_type": "code",
   "execution_count": 36,
   "id": "f17cc325",
   "metadata": {},
   "outputs": [],
   "source": [
    "df['duration'] = df.dropOff_datetime - df.pickup_datetime\n",
    "df['duration'] = df.duration.dt.total_seconds() / 60"
   ]
  },
  {
   "cell_type": "code",
   "execution_count": 16,
   "id": "1b613836",
   "metadata": {},
   "outputs": [
    {
     "data": {
      "text/plain": [
       "19.1672240937939"
      ]
     },
     "execution_count": 16,
>>>>>>> f3145bae25331dbb49a85d54a332f9aef0a51160
     "metadata": {},
     "output_type": "execute_result"
    }
   ],
   "source": [
<<<<<<< HEAD
    "january_data.shape"
   ],
   "metadata": {
    "collapsed": false,
    "pycharm": {
     "name": "#%%\n"
    }
   }
  },
  {
   "cell_type": "code",
   "execution_count": 6,
   "outputs": [],
   "source": [
    "def get_duration(df: pd.DataFrame) -> pd.Series:\n",
    "    return  (df.dropOff_datetime - df.pickup_datetime).dt.total_seconds() / 60"
   ],
   "metadata": {
    "collapsed": false,
    "pycharm": {
     "name": "#%%\n"
    }
   }
  },
  {
   "cell_type": "code",
   "execution_count": 7,
   "outputs": [],
   "source": [
    "duration = get_duration(january_data)"
   ],
   "metadata": {
    "collapsed": false,
    "pycharm": {
     "name": "#%%\n"
    }
   }
  },
  {
   "cell_type": "code",
   "execution_count": 8,
   "outputs": [
    {
     "data": {
      "text/plain": "19.17"
     },
     "execution_count": 8,
     "metadata": {},
     "output_type": "execute_result"
    }
   ],
   "source": [
    "duration.mean().round(2)"
   ],
   "metadata": {
    "collapsed": false,
    "pycharm": {
     "name": "#%%\n"
    }
   }
  },
  {
   "cell_type": "code",
   "execution_count": 9,
   "outputs": [
    {
     "name": "stderr",
     "output_type": "stream",
     "text": [
      "/Users/a.lukoyanov/github/mlops-zoomcamp/.venv/lib/python3.9/site-packages/seaborn/distributions.py:2619: FutureWarning: `distplot` is a deprecated function and will be removed in a future version. Please adapt your code to use either `displot` (a figure-level function with similar flexibility) or `histplot` (an axes-level function for histograms).\n",
      "  warnings.warn(msg, FutureWarning)\n"
     ]
    },
    {
     "data": {
      "text/plain": "<AxesSubplot:ylabel='Density'>"
     },
     "execution_count": 9,
     "metadata": {},
     "output_type": "execute_result"
    },
    {
     "data": {
      "text/plain": "<Figure size 432x288 with 1 Axes>",
      "image/png": "iVBORw0KGgoAAAANSUhEUgAAAZUAAAD3CAYAAADVEMneAAAAOXRFWHRTb2Z0d2FyZQBNYXRwbG90bGliIHZlcnNpb24zLjUuMiwgaHR0cHM6Ly9tYXRwbG90bGliLm9yZy8qNh9FAAAACXBIWXMAAAsTAAALEwEAmpwYAAAX40lEQVR4nO3df5Bd5X3f8fe9d1daqV20tCyW0zZ1kzZfSFzhcRmMDDImg02ghlCHZqjbpqaFKBNaDKSTkmKTekY2kx+EBlPGqTvUNLb+sN1QZ2gFdkvjqIsJlKgMqtOvu56J6zHBDhlWkr3aZbW6/ePelY52797dPTpH++v9mtnx3vM8597nfMfos895zjm30W63kSSpCs3VHoAkaeMwVCRJlTFUJEmVMVQkSZUxVCRJlRlY7QGsppMnT7ZnZ8td/dZqNSi772ZgffqzPv1Zn/5Wuz6Dg63XgNFebZs6VGZn20xMTJbad2Rke+l9NwPr05/16c/69Lfa9RkdHf7mYm2e/pIkVcZQkSRVxlCRJFWmljWViGgCjwKXANPAbZk5Xmi/HdgLnAD2ZeaTEXEBsB/YBrwC3JqZk736Ft7nLmBnZt7bff33gLu6fV8Gfj4zT9ZxjJKkheqaqdwEDGXmbuBe4MG5hojYCdwJXAFcCzwQEVuB+4H9mbkHOATsXaxvRGyLiM8CdxTedxuwD7g6M68AdgDvq+n4JEk91HX115XAUwCZ+VxEXFpouwwYy8xpYDoixoFd3X0+3u1zoPv7NxbpOw48DnwZuKi7zzTwzsycuyRiAJjqN8hWq8HIyPZSB9hqNUvvuxlYn/6sT3/Wp7+1XJ+6QuU84Ejh9WxEDGTmiR5tx+jMKorbe207tT0zXwe+FBEfnGvonub6DkBE/DPgz9MJnUV5SXF9rE9/1qc/69PfatdndHR40ba6QuUoUPzUZjdQerUNAxOF7cd7bJvft6fuWs6vAj8C/FRmeveUJJ1Dda2pjAHXA0TE5XQWzec8D+yJiKGI2AFcDBwu7gNcBxzs03cxvwUMATcVToNJks6RumYqTwDviYhngQZwa0TcA4xn5u9GxMN0QqMJ3JeZUxGxD3i8e7XXa8AHMvP7vfr2+sCIeDvwT7p9n4kIgN/MzCfqOMCjUzO8/sZsz7btgy22Nur4VEla2xqb+ZsfZ2Zm22XPSx5vNDnw0rd7tl190YWcv6V1NkNb91b7nO9aZ336sz79rXZ9RkeHXwQu7dXmzY+SpMoYKpKkyhgqkqTKGCqSpMoYKpKkyhgqkqTKGCqSpMoYKpKkyhgqkqTKGCqSpMoYKpKkyhgqkqTKGCqSpMoYKpKkyhgqkqTKGCqSpMoYKpKkyhgqkqTKGCqSpMoYKpKkyhgqkqTKGCqSpMoYKpKkyhgqkqTKGCqSpMoYKpKkyhgqkqTKDNTxphHRBB4FLgGmgdsyc7zQfjuwFzgB7MvMJyPiAmA/sA14Bbg1Myd79S28z13Azsy8t/v6BuD+bt/HMvNTdRyfJKm3umYqNwFDmbkbuBd4cK4hInYCdwJXANcCD0TEVjphsD8z9wCHgL2L9Y2IbRHxWeCOwvsOAg8B7wWuAn42It5U0/FJknqoZaYCXAk8BZCZz0XEpYW2y4CxzJwGpiNiHNjV3efj3T4Hur9/Y5G+48DjwJeBi7r7XAyMZ+brABHxP4B3AZ9fbJCtVoORke2lDnDq2DTbt23p2Ta0dZCRHUOl3nejaLWapWu7GVif/qxPf2u5PnWFynnAkcLr2YgYyMwTPdqOATvmbe+17dT2bnB8KSI+2Ocz595jUbOzbSYmJpd7TGdoN5pMHn+jZ9vU9AwTEydLve9GMTKyvXRtNwPr05/16W+16zM6OrxoW12nv44CxU9tdgOlV9swMDFve69txe3L+cx+fSVJNagrVMaA6wEi4nLg5ULb88CeiBiKiB10TlsdLu4DXAcc7NO3lz8C/kZE/IWI2ELn1NdXqz0sSVI/dYXKE8BURDxLZ/H87oi4JyJuzMxXgYfphMYzwH2ZOQXsA26JiDFgN/BIn74LZOYMcA/wNJ0weSwzv13T8UmSemi02+3VHsOqmZmZbZc9L3m80eTAS70z6+qLLuT8La2zGdq6t9rnfNc669Of9elvteszOjr8InBprzZvfpQkVcZQkSRVxlCRJFXGUJEkVcZQkSRVxlCRJFXGUJEkVcZQkSRVxlCRJFXGUJEkVcZQkSRVxlCRJFXGUJEkVcZQkSRVxlCRJFXGUJEkVcZQkSRVxlCRJFXGUJEkVcZQkSRVxlCRJFXGUJEkVcZQkSRVxlCRJFXGUJEkVcZQkSRVxlCRJFVmoI43jYgm8ChwCTAN3JaZ44X224G9wAlgX2Y+GREXAPuBbcArwK2ZObnCvr8AfAA4CXw8M5+o4/gkSb3VNVO5CRjKzN3AvcCDcw0RsRO4E7gCuBZ4ICK2AvcD+zNzD3AI2LvCviPAh4DdwHuBf13TsUmSFlFXqFwJPAWQmc8BlxbaLgPGMnM6M48A48Cu4j7AAeCaFfb9PvBN4M91f07WdGySpEXUcvoLOA84Ung9GxEDmXmiR9sxYMe87b22LdUX4FvA14AW8MBSg2y1GoyMbF/+URVMHZtm+7YtPduGtg4ysmOo1PtuFK1Ws3RtNwPr05/16W8t16euUDkKDBdeN7uB0qttGJgobD/eY9ty+l4HvBn4a92+T0fEWGY+v9ggZ2fbTExMrvTYAGg3mkwef6Nn29T0DBMTm3uiNDKyvXRtNwPr05/16W+16zM6OrxoW12nv8aA6wEi4nLg5ULb88CeiBiKiB3AxcDh4j50AuLgCvu+TidkpjNzik7QjNR0fJKkHuoKlSeAqYh4FngIuDsi7omIGzPzVeBhOkHwDHBfNwT2AbdExBidxfZHVtj3IPAC8FxEfBX4OvDlmo5PktRDo91ur/YYVs3MzGy77BTyeKPJgZe+3bPt6osu5PwtrbMZ2rq32tPztc769Gd9+lvt+oyODr/ImRdgneLNj5KkyhgqkqTKGCqSpMoYKpKkyhgqkqTKGCqSpMoYKpKkyhgqkqTKGCqSpMoYKpKkyhgqkqTKGCqSpMosK1QioueDwyRJKlrul3T984h4C/AZ4DOZOVHbiCRJ69ayZiqZeQudL8NqA5+PiM9GxLvrHJgkaf1ZyZrKm4AfBC4AXgNujojP1DIqSdK6tKzTXxHxB8Ak8Cng/syc7m5/usaxSZLWmeWuqfzTzHxh7kVEXJWZX8nMa2salyRpHeobKhGxB/hROt8x/xvdzS3gDuCtNY9NkrTOLDVTeR3YCWwF3tzddhL4xToHJUlan/qGSmYeBg5HxL/NzD85R2OSJK1TS53++kJm3gz8YUS0u5sbQDszf6D20UmS1pWlZio3d//3zf36SZIEy7+k+Jpu3ybwCeAjmbm/zoFJktaf5d78+DHg/wJ3AlcAP1fbiCRJ69ZyQ2US+A5wIjNfpfO4FkmSzrDcUDkKPAV8LiLuAL5b35AkSevVcu+o/2nghzPzaxHxVjqPa1lURDSBR4FLgGngtswcL7TfDuwFTgD7MvPJiLgA2A9sA14Bbs3MyRX2vQ74ZTpXqL0I3JGZzqok6RxZ7kzlQuB9EXE/8H7g3iX63wQMZebubt8H5xoiYien12auBR6IiK3A/cD+zNwDHAL2rrDvMPBrwPsy8x3AH9N5+KUk6RxZbqh8HjiPzrrK3E8/V9I5XUZmPgcUv+TrMmAsM6cz8wgwDuwq7gMcAK5ZYd93Ai8DD0bEQeA7mfmnyzw+SVIFlnv661hmfngF73secKTwejYiBjLzRI+2Y8COedt7bVuq7wXA1cDbgO8BByPiq5n59cUG2Wo1GBnZvoLDOm3q2DTbt23p2Ta0dZCRHUOl3nejaLWapWu7GVif/qxPf2u5PssNlcMRcQudU01tgH7/WNNZ2B8uvG52A6VX2zAwUdh+vMe25fT9M+CF7tVpRMTv0wmYRcc5O9tmYmKyz2Esrt1oMnn8jZ5tU9MzTEycLPW+G8XIyPbStd0MrE9/1qe/1a7P6Ojwom3LDZW3dX/mtIEf79N/DLiBztVil9M5LTXneeBjETFE50GVFwOHu/tcD3yazrdMHlxh3z8E3tpdxJ8ALmeJCwokSdVa7tcJX01n8f0u4IbM7BcoAE8AUxHxLPAQnUfn3xMRN3ZnEg/TCYJngPsycwrYB9wSEWPAbuCRFfb9LvBLwNPAHwC/030gpiTpHGm020tfcRsRPwV8mM7M5nN0Hii5r+ax1W5mZrZddgp5vNHkwEvf7tl29UUXcv6W1tkMbd1b7en5Wmd9+rM+/a12fUZHh1/kzAuwTlnu1V/30Dmd9BqdWcLfqWZokqSNZLmhcrL7vfTt7s2E369xTJKkdWq5oXIwIvYDfzkiPgm8sNQOkqTNZ8mrvyJiFzALvB34bWAiMz9R98AkSetP35lKRPxd4DHgm3S+l34CuD0ifrL+oUmS1pulZiofAq7KzFNrKBHxOPDF7o8kSacstaZyohgoAJl5lM7pMEmSzrBUqCz2rJHlLvBLkjaRpU5//Vj3qq+iBvCjNY1HkrSOLRUqP73I9k9WPRBJ0vrXN1Qy8yvnaiCSpPXPtRFJUmUMFUlSZQwVSVJlDBVJUmUMFUlSZQwVSVJlDBVJUmUMFUlSZQwVSVJlDBVJUmUMFUlSZQwVSVJlDBVJUmUMlRK+c2yajz75NWZmF/sOM0nanAyVEv73nxzlv/2f7/L65MxqD0WS1hRDpYRWs1O22XZ7lUciSWvLUt/8WEpENIFHgUuAaeC2zBwvtN8O7AVOAPsy88mIuADYD2wDXgFuzczJlfQtfPZ/Br6YmbV8Q+VAqwHAyZOGiiQV1TVTuQkYyszdwL3Ag3MNEbETuBO4ArgWeCAitgL3A/szcw9wCNi7kr6Fz94HnF/TcQEw2OyGipkiSWeoK1SuBJ4CyMzngEsLbZcBY5k5nZlHgHFgV3Ef4ABwzQr7EhE3AycLbbWYm6nMmiqSdIZaTn8B5wFHCq9nI2IgM0/0aDsG7Ji3vde2vn0j4q3AB4Cb6cxkltRqNRgZ2b6Cw+o4/+g0AINbWmzftmVB+9DWQUZ2DK34fTeSVqtZqrabhfXpz/r0t5brU1eoHAWGC6+b3UDp1TYMTBS2H++xbTl9fwb4S8AzwFuANyLijzNz0VnL7GybiYnJFR/c8ck3AJicmmHy+BsL2qemZ5iY2NyXG4+MbC9V283C+vRnffpb7fqMjg4v2lZXqIwBNwCfi4jLgZcLbc8DH4uIIWArcDFwuLvP9cCngeuAgyvpm5m/MvcBEfGvgFf7BcrZGDy1UF/Hu0vS+lXXmsoTwFREPAs8BNwdEfdExI2Z+SrwMJ3QeAa4LzOn6Cyw3xIRY8Bu4JGV9K3pOHoa8JJiSeqp0d7E/zDOzMy2y0whv/X6cd7/2Au878fexN/8gfMWtF990YWcv6VVxRDXrdWenq911qc/69PfatdndHT4Rc68AOsUb34s4dR9Kps4kCWpF0OlhAHvU5GkngyVEgbn1lRMFUk6g6FSgqe/JKk3Q6WEudNfzlQk6UyGSgmuqUhSb4ZKCS1nKpLUk6FSQqPRYKDZcE1FkuYxVEoaaDa8o16S5jFUShpoNXz2lyTNY6iUNNBsOlORpHkMlZI6MxVDRZKKDJWSXFORpIUMlZJazaZXf0nSPIZKSYMu1EvSAoZKSZ7+kqSFDJWSBppN76iXpHkMlZJaLe+ol6T5DJWSBpsNHygpSfMYKiUNtDz9JUnzGSoltVyol6QFDJWSBpreUS9J8xkqJQ22mq6pSNI8hkpJA82GayqSNI+hUlLLL+mSpAUMlZIGWi7US9J8hkpJA82mz/6SpHkG6njTiGgCjwKXANPAbZk5Xmi/HdgLnAD2ZeaTEXEBsB/YBrwC3JqZkyvsezdwS/dj/ktmfrSO4wNnKpLUS10zlZuAoczcDdwLPDjXEBE7gTuBK4BrgQciYitwP7A/M/cAh4C9K+z7Q8DfB94JXA68NyJ21XR8XlIsST3UFSpXAk8BZOZzwKWFtsuAscyczswjwDiwq7gPcAC4ZoV9vwX8RGbOZmYbGASmajo+v05Yknqo5fQXcB5wpPB6NiIGMvNEj7ZjwI5523tt69s3M2eA1yKiAfwacCgzv95vkK1Wg5GR7SUOr/t1wm3YNjRIo9E4o21o6yAjO4ZKve9G0Wo1S9d2M7A+/Vmf/tZyfeoKlaPAcOF1sxsovdqGgYnC9uM9ti2nLxExBDxGJ2h+fqlBzs62mZiYXMFhnTbQ7ATJ9ybfoNU8M1SmpmeYmNjcq/gjI9tL13YzsD79WZ/+Vrs+o6PDi7bVdfprDLgeICIuB14utD0P7ImIoYjYAVwMHC7uA1wHHFxJ3+4M5YvAS5m5NzNnazo2oHP6C/BeFUkqqCtUngCmIuJZ4CHg7oi4JyJuzMxXgYfphMYzwH2ZOQXsA26JiDFgN/DISvrSuTjgKuC6iPi97s/umo6PgVZnduJd9ZJ0WqO9if/SnpmZbZedQn7m0Cv85jPjfOiqH2L7ltYZbVdfdCHnz9u22az29Hytsz79WZ/+Vrs+o6PDL3LmBVinePNjSQMtT39J0nyGSklzC/We/pKk0wyVkk6FijMVSTrFUClpbqHe539J0mmGSkleUixJCxkqJXlJsSQtZKiU5JqKJC1kqJR0+vTXKg9EktYQQ6Wk0wv1pookzTFUSvL0lyQtZKiUdOr0lzMVSTrFUCnp1NVfzlQk6RRDpaS5019OVCTpNEOlpLkHSnqfiiSdZqiUdHqmYqhI0hxDpaSWTymWpAUMlZJcU5GkhQyVkgZdU5GkBQyVklxTkaSFDJWSWt6nIkkLGColtRp+SZckzWeolNRoNGg1Gp7+kqQCQ+UsNJsu1EtSkaFyFlqNhmsqklRgqJyFZqPhfSqSVGConIVWs+Gj7yWpwFA5C82GlxRLUtFAHW8aEU3gUeASYBq4LTPHC+23A3uBE8C+zHwyIi4A9gPbgFeAWzNz8mz71nF8c5rNhgv1klRQ10zlJmAoM3cD9wIPzjVExE7gTuAK4FrggYjYCtwP7M/MPcAhYG9FfWvTck1Fks5Qy0wFuBJ4CiAzn4uISwttlwFjmTkNTEfEOLCru8/Hu30OdH//RgV9X6jpGBloNsjvfo9f/a/jZ2z/9WfGaXR/bzQaC3ecayv+3pjftvh+60GjAZ4ZXJz16c/69He29Wk24aPXXcS7fvgvVjeorrpC5TzgSOH1bEQMZOaJHm3HgB3ztvfaVrbvogYHW6+Njg5/c/mHdabn7rum7K6StJ791cUa6gqVo8Bw4XWzGyi92oaBicL24z22nU3ffkaXczCSpOWpa01lDLgeICIuB14utD0P7ImIoYjYAVwMHC7uA1wHHKyoryTpHGm0azhxWbj6axedpYNb6YTAeGb+bvcqrZ+lE2ofz8z/GBFvAh6nM8N4DfhAZn7/bPtWfnCSpEXVEiqSpM3Jmx8lSZUxVCRJlTFUJEmVqeuS4g1rqUfQbDQR8Q7gVzLz3RHx14FPA206V9bdkZknI+KXgb9N5/E4d2Xm81X0PZfHuVIRMQg8BrwF2ArsA76G9QEgIlrAp4CgM+6fA6awPqdExIXAi8B76BzPp9kAtXGmsnI3scgjaDaaiPhF4N8BQ91NvwF8uPt4nAbwkxHxduAq4B3ALcC/qaJv3cdWgX8A/Fl3zD8BPIL1KboBIDOvAD4MfAzrc0r3j5LfonOvHWyg2hgqK3fGI2iAS/t3X9e+Aby/8PpvAV/p/n4AuIZOPb6Ume3M/H/AQESMVtB3rfs88JHu7w06fx1an67M/E90Lu+Hzt3XE1ifol8HPknngbiwgWpjqKxcz0fQrNZg6tS9z2emsKmRmXPXoC/1eJyz7bumZeb3MvNYRAwDX6Dz17j1KcjMExHxOPAJ4LNYHwAi4oPAn2bm04XNG6Y2hsrK9XsEzUZXPBe71ONxzrbvmhcRfwX478BvZ+Z+rM8CmfmPgB+hs76yrdC0mevzj4H3RMTvAW8D/gNwYaF9XdfGUFm5fo+g2egORcS7u7/PPR5nDLg2IpoR8YN0Qva1Cvquad2nOnwJ+BeZ+Vh3s/Xpioh/GBG/1H05Secft/9pfSAz35WZV2Xmu4H/BfwMcGCj1GZDnrap2RN0/sp4ltOPoNksfgH4VERsAf4I+EJmzkbEQeCrdP5IuaOKvufsiMr7l8D5wEciYm5t5UPAw9YHgN8B/n1E/D4wCNxFZ+z+/6e3DfPflo9pkSRVxtNfkqTKGCqSpMoYKpKkyhgqkqTKGCqSpMoYKpKkyhgqkqTK/H/jrKjJewM0/wAAAABJRU5ErkJggg==\n"
     },
     "metadata": {
      "needs_background": "light"
     },
     "output_type": "display_data"
    }
   ],
   "source": [
    "sns.distplot(duration)"
   ],
   "metadata": {
    "collapsed": false,
    "pycharm": {
     "name": "#%%\n"
    }
   }
  },
  {
   "cell_type": "code",
   "execution_count": 10,
   "outputs": [
    {
     "data": {
      "text/plain": "count    1.154112e+06\nmean     1.916722e+01\nstd      3.986922e+02\nmin      1.666667e-02\n25%      7.766667e+00\n50%      1.340000e+01\n75%      2.228333e+01\nmax      4.233710e+05\ndtype: float64"
     },
     "execution_count": 10,
     "metadata": {},
     "output_type": "execute_result"
    }
   ],
   "source": [
    "duration.describe()"
   ],
   "metadata": {
    "collapsed": false,
    "pycharm": {
     "name": "#%%\n"
    }
   }
  },
  {
   "cell_type": "code",
   "execution_count": 11,
   "outputs": [],
   "source": [
    "def filter_outliers(df: pd.DataFrame) -> pd.DataFrame:\n",
    "    return df[(df.duration >= 1) & (df.duration <= 60)]"
   ],
   "metadata": {
    "collapsed": false,
    "pycharm": {
     "name": "#%%\n"
    }
   }
  },
  {
   "cell_type": "code",
   "execution_count": 12,
   "outputs": [
    {
     "name": "stdout",
     "output_type": "stream",
     "text": [
      "Num of rows dropped after filtration:  44286\n"
     ]
    }
   ],
   "source": [
    "january_data['duration'] = get_duration(january_data)\n",
    "print(\n",
    "    \"Num of rows dropped after filtration: \",\n",
    "    january_data.shape[0] - filter_outliers(january_data).shape[0],\n",
    ")"
   ],
   "metadata": {
    "collapsed": false,
    "pycharm": {
     "name": "#%%\n"
    }
   }
  },
  {
   "cell_type": "code",
   "execution_count": 13,
   "outputs": [
    {
     "data": {
      "text/plain": "Index(['dispatching_base_num', 'pickup_datetime', 'dropOff_datetime',\n       'PUlocationID', 'DOlocationID', 'SR_Flag', 'Affiliated_base_number',\n       'duration'],\n      dtype='object')"
     },
     "execution_count": 13,
=======
    "df.duration.mean()"
   ]
  },
  {
   "cell_type": "code",
   "execution_count": 37,
   "id": "3092ae43",
   "metadata": {},
   "outputs": [],
   "source": [
    "df = df[(df.duration >= 1) & (df.duration <= 60)].copy()"
   ]
  },
  {
   "cell_type": "code",
   "execution_count": 38,
   "id": "2e1aa200",
   "metadata": {},
   "outputs": [],
   "source": [
    "categorical = ['PUlocationID', 'DOlocationID']\n",
    "\n",
    "df[categorical] = df[categorical].fillna(-1).astype('int')"
   ]
  },
  {
   "cell_type": "code",
   "execution_count": 52,
   "id": "22c6495b",
   "metadata": {},
   "outputs": [],
   "source": [
    "df[categorical] = df[categorical].astype('str')"
   ]
  },
  {
   "cell_type": "code",
   "execution_count": 55,
   "id": "12fcfa04",
   "metadata": {},
   "outputs": [],
   "source": [
    "train_dicts = df[categorical].to_dict(orient='records')"
   ]
  },
  {
   "cell_type": "code",
   "execution_count": 56,
   "id": "0606301f",
   "metadata": {},
   "outputs": [],
   "source": [
    "dv = DictVectorizer()\n",
    "X_train = dv.fit_transform(train_dicts) "
   ]
  },
  {
   "cell_type": "code",
   "execution_count": 57,
   "id": "c81c6737",
   "metadata": {},
   "outputs": [
    {
     "data": {
      "text/plain": [
       "(1109826, 525)"
      ]
     },
     "execution_count": 57,
>>>>>>> f3145bae25331dbb49a85d54a332f9aef0a51160
     "metadata": {},
     "output_type": "execute_result"
    }
   ],
   "source": [
<<<<<<< HEAD
    "january_data.columns"
   ],
   "metadata": {
    "collapsed": false,
    "pycharm": {
     "name": "#%%\n"
    }
   }
  },
  {
   "cell_type": "code",
   "execution_count": 14,
   "outputs": [],
   "source": [
    "FEATURES = [\"PUlocationID\", \"DOlocationID\"]\n",
    "TARGET = \"duration\""
   ],
   "metadata": {
    "collapsed": false,
    "pycharm": {
     "name": "#%%\n"
    }
   }
  },
  {
   "cell_type": "code",
   "execution_count": 15,
   "outputs": [],
   "source": [
    "january_data = filter_outliers(january_data)[[*FEATURES, TARGET]]"
   ],
   "metadata": {
    "collapsed": false,
    "pycharm": {
     "name": "#%%\n"
    }
   }
  },
  {
   "cell_type": "code",
   "execution_count": 16,
   "outputs": [
    {
     "data": {
      "text/plain": "PUlocationID    float64\nDOlocationID    float64\nduration        float64\ndtype: object"
     },
     "execution_count": 16,
=======
    "X_train.shape"
   ]
  },
  {
   "cell_type": "code",
   "execution_count": 60,
   "id": "aeaf7bad",
   "metadata": {},
   "outputs": [],
   "source": [
    "y_train = df.duration.values"
   ]
  },
  {
   "cell_type": "code",
   "execution_count": 59,
   "id": "75199886",
   "metadata": {},
   "outputs": [
    {
     "data": {
      "text/plain": [
       "525"
      ]
     },
     "execution_count": 59,
>>>>>>> f3145bae25331dbb49a85d54a332f9aef0a51160
     "metadata": {},
     "output_type": "execute_result"
    }
   ],
   "source": [
<<<<<<< HEAD
    "january_data.dtypes"
   ],
   "metadata": {
    "collapsed": false,
    "pycharm": {
     "name": "#%%\n"
    }
   }
  },
  {
   "cell_type": "code",
   "execution_count": 17,
   "outputs": [
    {
     "data": {
      "text/plain": "PUlocationID    0.835273\nDOlocationID    0.133270\nduration        0.000000\ndtype: float64"
     },
     "execution_count": 17,
=======
    "len(dv.feature_names_)"
   ]
  },
  {
   "cell_type": "code",
   "execution_count": 61,
   "id": "4d7f1e4b",
   "metadata": {},
   "outputs": [
    {
     "data": {
      "text/plain": [
       "LinearRegression()"
      ]
     },
     "execution_count": 61,
>>>>>>> f3145bae25331dbb49a85d54a332f9aef0a51160
     "metadata": {},
     "output_type": "execute_result"
    }
   ],
   "source": [
<<<<<<< HEAD
    "january_data.isna().mean()"
   ],
   "metadata": {
    "collapsed": false,
    "pycharm": {
     "name": "#%%\n"
    }
   }
  },
  {
   "cell_type": "code",
   "execution_count": 18,
   "outputs": [],
   "source": [
    "january_data.fillna(-1, inplace=True)"
   ],
   "metadata": {
    "collapsed": false,
    "pycharm": {
     "name": "#%%\n"
    }
   }
  },
  {
   "cell_type": "code",
   "execution_count": 19,
   "outputs": [],
   "source": [
    "def get_dict_features(\n",
    "        df: pd.DataFrame,\n",
    "        feature_columns: tp.List[str],\n",
    ") -> tp.List[tp.Dict[str, str]]:\n",
    "    df[feature_columns] = df[feature_columns].astype(str)\n",
    "    return df[feature_columns].to_dict(orient='record')\n",
    "\n",
    "def get_fitted_vectorizer(records: tp.List[tp.Dict[str, str]]) -> DictVectorizer:\n",
    "    return DictVectorizer().fit(records)"
   ],
   "metadata": {
    "collapsed": false,
    "pycharm": {
     "name": "#%%\n"
    }
   }
  },
  {
   "cell_type": "code",
   "execution_count": 20,
   "outputs": [
    {
     "name": "stderr",
     "output_type": "stream",
     "text": [
      "/var/folders/t1/rf_26t994q15kp43xr2mkms00000gp/T/ipykernel_37099/2844790713.py:6: FutureWarning: Using short name for 'orient' is deprecated. Only the options: ('dict', list, 'series', 'split', 'records', 'index') will be used in a future version. Use one of the above to silence this warning.\n",
      "  return df[feature_columns].to_dict(orient='record')\n"
     ]
    }
   ],
   "source": [
    "january_records = get_dict_features(january_data, FEATURES)"
   ],
   "metadata": {
    "collapsed": false,
    "pycharm": {
     "name": "#%%\n"
    }
   }
  },
  {
   "cell_type": "code",
   "execution_count": 21,
   "outputs": [],
   "source": [
    "vectorizer = get_fitted_vectorizer(january_records)"
   ],
   "metadata": {
    "collapsed": false,
    "pycharm": {
     "name": "#%%\n"
    }
   }
  },
  {
   "cell_type": "code",
   "execution_count": 22,
   "outputs": [
    {
     "data": {
      "text/plain": "<1109826x525 sparse matrix of type '<class 'numpy.float64'>'\n\twith 2219652 stored elements in Compressed Sparse Row format>"
     },
     "execution_count": 22,
     "metadata": {},
     "output_type": "execute_result"
    }
   ],
   "source": [
    "vectorizer.transform(january_records)"
   ],
   "metadata": {
    "collapsed": false,
    "pycharm": {
     "name": "#%%\n"
    }
   }
  },
  {
   "cell_type": "markdown",
   "source": [
    "### Training"
   ],
   "metadata": {
    "collapsed": false,
    "pycharm": {
     "name": "#%% md\n"
    }
   }
  },
  {
   "cell_type": "code",
   "execution_count": 23,
   "outputs": [],
   "source": [
    "def prepare_date(path: str) -> tp.Tuple[tp.List[tp.Dict[str, str]], np.ndarray]:\n",
    "    df = pd.read_parquet(path)\n",
    "    df['duration'] = get_duration(df)\n",
    "    df = filter_outliers(df)\n",
    "    return get_dict_features(df, FEATURES), df.duration.values"
   ],
   "metadata": {
    "collapsed": false,
    "pycharm": {
     "name": "#%%\n"
    }
   }
  },
  {
   "cell_type": "code",
   "execution_count": 24,
   "outputs": [
    {
     "name": "stderr",
     "output_type": "stream",
     "text": [
      "/var/folders/t1/rf_26t994q15kp43xr2mkms00000gp/T/ipykernel_37099/2844790713.py:6: FutureWarning: Using short name for 'orient' is deprecated. Only the options: ('dict', list, 'series', 'split', 'records', 'index') will be used in a future version. Use one of the above to silence this warning.\n",
      "  return df[feature_columns].to_dict(orient='record')\n",
      "/var/folders/t1/rf_26t994q15kp43xr2mkms00000gp/T/ipykernel_37099/2844790713.py:6: FutureWarning: Using short name for 'orient' is deprecated. Only the options: ('dict', list, 'series', 'split', 'records', 'index') will be used in a future version. Use one of the above to silence this warning.\n",
      "  return df[feature_columns].to_dict(orient='record')\n"
     ]
    }
   ],
   "source": [
    "X_train, y_train = prepare_date(\"./data/fhv_tripdata_2021-01.parquet\")\n",
    "X_test, y_test = prepare_date(\"./data/fhv_tripdata_2021-02.parquet\")"
   ],
   "metadata": {
    "collapsed": false,
    "pycharm": {
     "name": "#%%\n"
    }
   }
  },
  {
   "cell_type": "code",
   "execution_count": 25,
   "outputs": [],
   "source": [
    "vectorizer = get_fitted_vectorizer(X_train)\n",
    "X_train = vectorizer.transform(X_train)\n",
    "X_test = vectorizer.transform(X_test)"
   ],
   "metadata": {
    "collapsed": false,
    "pycharm": {
     "name": "#%%\n"
    }
   }
  },
  {
   "cell_type": "code",
   "execution_count": 26,
   "outputs": [
    {
     "data": {
      "text/plain": "LinearRegression()",
      "text/html": "<style>#sk-container-id-1 {color: black;background-color: white;}#sk-container-id-1 pre{padding: 0;}#sk-container-id-1 div.sk-toggleable {background-color: white;}#sk-container-id-1 label.sk-toggleable__label {cursor: pointer;display: block;width: 100%;margin-bottom: 0;padding: 0.3em;box-sizing: border-box;text-align: center;}#sk-container-id-1 label.sk-toggleable__label-arrow:before {content: \"▸\";float: left;margin-right: 0.25em;color: #696969;}#sk-container-id-1 label.sk-toggleable__label-arrow:hover:before {color: black;}#sk-container-id-1 div.sk-estimator:hover label.sk-toggleable__label-arrow:before {color: black;}#sk-container-id-1 div.sk-toggleable__content {max-height: 0;max-width: 0;overflow: hidden;text-align: left;background-color: #f0f8ff;}#sk-container-id-1 div.sk-toggleable__content pre {margin: 0.2em;color: black;border-radius: 0.25em;background-color: #f0f8ff;}#sk-container-id-1 input.sk-toggleable__control:checked~div.sk-toggleable__content {max-height: 200px;max-width: 100%;overflow: auto;}#sk-container-id-1 input.sk-toggleable__control:checked~label.sk-toggleable__label-arrow:before {content: \"▾\";}#sk-container-id-1 div.sk-estimator input.sk-toggleable__control:checked~label.sk-toggleable__label {background-color: #d4ebff;}#sk-container-id-1 div.sk-label input.sk-toggleable__control:checked~label.sk-toggleable__label {background-color: #d4ebff;}#sk-container-id-1 input.sk-hidden--visually {border: 0;clip: rect(1px 1px 1px 1px);clip: rect(1px, 1px, 1px, 1px);height: 1px;margin: -1px;overflow: hidden;padding: 0;position: absolute;width: 1px;}#sk-container-id-1 div.sk-estimator {font-family: monospace;background-color: #f0f8ff;border: 1px dotted black;border-radius: 0.25em;box-sizing: border-box;margin-bottom: 0.5em;}#sk-container-id-1 div.sk-estimator:hover {background-color: #d4ebff;}#sk-container-id-1 div.sk-parallel-item::after {content: \"\";width: 100%;border-bottom: 1px solid gray;flex-grow: 1;}#sk-container-id-1 div.sk-label:hover label.sk-toggleable__label {background-color: #d4ebff;}#sk-container-id-1 div.sk-serial::before {content: \"\";position: absolute;border-left: 1px solid gray;box-sizing: border-box;top: 0;bottom: 0;left: 50%;z-index: 0;}#sk-container-id-1 div.sk-serial {display: flex;flex-direction: column;align-items: center;background-color: white;padding-right: 0.2em;padding-left: 0.2em;position: relative;}#sk-container-id-1 div.sk-item {position: relative;z-index: 1;}#sk-container-id-1 div.sk-parallel {display: flex;align-items: stretch;justify-content: center;background-color: white;position: relative;}#sk-container-id-1 div.sk-item::before, #sk-container-id-1 div.sk-parallel-item::before {content: \"\";position: absolute;border-left: 1px solid gray;box-sizing: border-box;top: 0;bottom: 0;left: 50%;z-index: -1;}#sk-container-id-1 div.sk-parallel-item {display: flex;flex-direction: column;z-index: 1;position: relative;background-color: white;}#sk-container-id-1 div.sk-parallel-item:first-child::after {align-self: flex-end;width: 50%;}#sk-container-id-1 div.sk-parallel-item:last-child::after {align-self: flex-start;width: 50%;}#sk-container-id-1 div.sk-parallel-item:only-child::after {width: 0;}#sk-container-id-1 div.sk-dashed-wrapped {border: 1px dashed gray;margin: 0 0.4em 0.5em 0.4em;box-sizing: border-box;padding-bottom: 0.4em;background-color: white;}#sk-container-id-1 div.sk-label label {font-family: monospace;font-weight: bold;display: inline-block;line-height: 1.2em;}#sk-container-id-1 div.sk-label-container {text-align: center;}#sk-container-id-1 div.sk-container {/* jupyter's `normalize.less` sets `[hidden] { display: none; }` but bootstrap.min.css set `[hidden] { display: none !important; }` so we also need the `!important` here to be able to override the default hidden behavior on the sphinx rendered scikit-learn.org. See: https://github.com/scikit-learn/scikit-learn/issues/21755 */display: inline-block !important;position: relative;}#sk-container-id-1 div.sk-text-repr-fallback {display: none;}</style><div id=\"sk-container-id-1\" class=\"sk-top-container\"><div class=\"sk-text-repr-fallback\"><pre>LinearRegression()</pre><b>In a Jupyter environment, please rerun this cell to show the HTML representation or trust the notebook. <br />On GitHub, the HTML representation is unable to render, please try loading this page with nbviewer.org.</b></div><div class=\"sk-container\" hidden><div class=\"sk-item\"><div class=\"sk-estimator sk-toggleable\"><input class=\"sk-toggleable__control sk-hidden--visually\" id=\"sk-estimator-id-1\" type=\"checkbox\" checked><label for=\"sk-estimator-id-1\" class=\"sk-toggleable__label sk-toggleable__label-arrow\">LinearRegression</label><div class=\"sk-toggleable__content\"><pre>LinearRegression()</pre></div></div></div></div></div>"
     },
     "execution_count": 26,
     "metadata": {},
     "output_type": "execute_result"
    }
   ],
   "source": [
    "linear_regression = LinearRegression()\n",
    "linear_regression.fit(X_train, y_train)"
   ],
   "metadata": {
    "collapsed": false,
    "pycharm": {
     "name": "#%%\n"
    }
   }
  },
  {
   "cell_type": "code",
   "execution_count": 27,
   "outputs": [
    {
     "data": {
      "text/plain": "10.528519107212114"
     },
     "execution_count": 27,
=======
    "lr = LinearRegression()\n",
    "lr.fit(X_train, y_train)"
   ]
  },
  {
   "cell_type": "code",
   "execution_count": 62,
   "id": "d61318d0",
   "metadata": {},
   "outputs": [],
   "source": [
    "y_pred = lr.predict(X_train)"
   ]
  },
  {
   "cell_type": "code",
   "execution_count": 63,
   "id": "1aa5f5c2",
   "metadata": {},
   "outputs": [
    {
     "data": {
      "text/plain": [
       "10.528519107212292"
      ]
     },
     "execution_count": 63,
     "metadata": {},
     "output_type": "execute_result"
    }
   ],
   "source": [
    "mean_squared_error(y_train, y_pred, squared=False)"
   ]
  },
  {
   "cell_type": "code",
   "execution_count": 64,
   "id": "41c08294",
   "metadata": {},
   "outputs": [],
   "source": [
    "categorical = ['PUlocationID', 'DOlocationID']\n",
    "\n",
    "def read_data(filename):\n",
    "    df = pd.read_parquet(filename)\n",
    "    \n",
    "    df['duration'] = df.dropOff_datetime - df.pickup_datetime\n",
    "    df['duration'] = df.duration.dt.total_seconds() / 60\n",
    "\n",
    "    df = df[(df.duration >= 1) & (df.duration <= 60)].copy()\n",
    "\n",
    "    df[categorical] = df[categorical].fillna(-1).astype('int').astype('str')\n",
    "    \n",
    "    return df"
   ]
  },
  {
   "cell_type": "code",
   "execution_count": 65,
   "id": "4854399a",
   "metadata": {},
   "outputs": [],
   "source": [
    "df_val = read_data('./data/fhv_tripdata_2021-02.parquet')"
   ]
  },
  {
   "cell_type": "code",
   "execution_count": 68,
   "id": "f9eea69f",
   "metadata": {},
   "outputs": [],
   "source": [
    "val_dicts = df_val[categorical].to_dict(orient='records')"
   ]
  },
  {
   "cell_type": "code",
   "execution_count": 69,
   "id": "669fda0a",
   "metadata": {},
   "outputs": [],
   "source": [
    "X_val = dv.transform(val_dicts) "
   ]
  },
  {
   "cell_type": "code",
   "execution_count": 70,
   "id": "7f8f950d",
   "metadata": {},
   "outputs": [],
   "source": [
    "y_pred = lr.predict(X_val)"
   ]
  },
  {
   "cell_type": "code",
   "execution_count": 71,
   "id": "8f129850",
   "metadata": {},
   "outputs": [],
   "source": [
    "y_val = df_val.duration.values"
   ]
  },
  {
   "cell_type": "code",
   "execution_count": 72,
   "id": "8a277ab9",
   "metadata": {},
   "outputs": [
    {
     "data": {
      "text/plain": [
       "11.014283211122269"
      ]
     },
     "execution_count": 72,
>>>>>>> f3145bae25331dbb49a85d54a332f9aef0a51160
     "metadata": {},
     "output_type": "execute_result"
    }
   ],
   "source": [
<<<<<<< HEAD
    "mean_squared_error(y_train, linear_regression.predict(X_train), squared=False)"
   ],
   "metadata": {
    "collapsed": false,
    "pycharm": {
     "name": "#%%\n"
    }
   }
  },
  {
   "cell_type": "code",
   "execution_count": 28,
   "outputs": [
    {
     "data": {
      "text/plain": "11.01428320094805"
     },
     "execution_count": 28,
     "metadata": {},
     "output_type": "execute_result"
    }
   ],
   "source": [
    "mean_squared_error(y_test, linear_regression.predict(X_test), squared=False)"
   ],
   "metadata": {
    "collapsed": false,
    "pycharm": {
     "name": "#%%\n"
    }
   }
=======
    "mean_squared_error(y_val, y_pred, squared=False)"
   ]
  },
  {
   "cell_type": "code",
   "execution_count": null,
   "id": "b5108416",
   "metadata": {},
   "outputs": [],
   "source": []
>>>>>>> f3145bae25331dbb49a85d54a332f9aef0a51160
  }
 ],
 "metadata": {
  "kernelspec": {
<<<<<<< HEAD
   "display_name": "Python 3",
=======
   "display_name": "Python 3 (ipykernel)",
>>>>>>> f3145bae25331dbb49a85d54a332f9aef0a51160
   "language": "python",
   "name": "python3"
  },
  "language_info": {
   "codemirror_mode": {
    "name": "ipython",
<<<<<<< HEAD
    "version": 2
=======
    "version": 3
>>>>>>> f3145bae25331dbb49a85d54a332f9aef0a51160
   },
   "file_extension": ".py",
   "mimetype": "text/x-python",
   "name": "python",
   "nbconvert_exporter": "python",
<<<<<<< HEAD
   "pygments_lexer": "ipython2",
   "version": "2.7.6"
  }
 },
 "nbformat": 4,
 "nbformat_minor": 0
}
=======
   "pygments_lexer": "ipython3",
   "version": "3.9.7"
  }
 },
 "nbformat": 4,
 "nbformat_minor": 5
}
>>>>>>> f3145bae25331dbb49a85d54a332f9aef0a51160
